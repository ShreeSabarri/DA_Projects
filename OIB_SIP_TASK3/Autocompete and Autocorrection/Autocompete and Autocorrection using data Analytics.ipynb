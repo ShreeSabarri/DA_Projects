{
 "cells": [
  {
   "cell_type": "code",
   "execution_count": 27,
   "id": "c350941f-a44a-4731-b7d9-3d8768ee42f5",
   "metadata": {},
   "outputs": [],
   "source": [
    "import requests\n",
    "\n",
    "# Example dataset download\n",
    "url = \"https://www.kaggle.com/datasets/mlg-ulb/creditcardfraud\"\n",
    "response = requests.get(url)\n",
    "\n",
    "# Save the dataset locally\n",
    "with open('dataset.txt', 'wb') as file:\n",
    "    file.write(response.content)\n"
   ]
  },
  {
   "cell_type": "code",
   "execution_count": 28,
   "id": "c981e404-72f1-42fc-94d3-9f5cccbfad54",
   "metadata": {},
   "outputs": [],
   "source": [
    "import re\n",
    "from nltk.corpus import stopwords\n",
    "from nltk.tokenize import word_tokenize\n",
    "\n",
    "# Load dataset\n",
    "with open('dataset.txt', 'r') as file:\n",
    "    text_data = file.read()\n",
    "\n",
    "# Text cleaning\n",
    "text_data = re.sub(r'\\d+', '', text_data)  # Remove numbers\n",
    "text_data = re.sub(r'\\s+', ' ', text_data)  # Remove extra spaces\n",
    "text_data = re.sub(r'\\W', ' ', text_data)  # Remove special characters\n",
    "\n",
    "# Tokenization\n",
    "tokens = word_tokenize(text_data.lower())\n",
    "\n",
    "# Remove stopwords\n",
    "tokens = [word for word in tokens if word not in stopwords.words('english')]\n",
    "\n",
    "cleaned_text = ' '.join(tokens)\n"
   ]
  },
  {
   "cell_type": "code",
   "execution_count": 29,
   "id": "81c6078c-a0a8-4468-828b-a8176a1d2dfd",
   "metadata": {},
   "outputs": [
    {
     "name": "stdout",
     "output_type": "stream",
     "text": [
      "['science', 'mining', 'released']\n"
     ]
    }
   ],
   "source": [
    "from collections import defaultdict\n",
    "\n",
    "class Autocomplete:\n",
    "    def __init__(self, data):\n",
    "        self.data = data\n",
    "        self.prediction_dict = defaultdict(list)\n",
    "\n",
    "    def train(self):\n",
    "        words = self.data.split()\n",
    "        for i in range(len(words) - 1):\n",
    "            self.prediction_dict[words[i]].append(words[i + 1])\n",
    "\n",
    "    def predict(self, word, top_n=3):\n",
    "        return sorted(set(self.prediction_dict[word]), key=self.prediction_dict[word].count, reverse=True)[:top_n]\n",
    "\n",
    "autocomplete = Autocomplete(cleaned_text)\n",
    "autocomplete.train()\n",
    "\n",
    "# Example prediction\n",
    "print(autocomplete.predict('data'))\n"
   ]
  },
  {
   "cell_type": "code",
   "execution_count": 30,
   "id": "2e87b9c0-c496-4b58-8e8f-f4ca345f7899",
   "metadata": {},
   "outputs": [
    {
     "name": "stdout",
     "output_type": "stream",
     "text": [
      "date\n"
     ]
    }
   ],
   "source": [
    "from difflib import get_close_matches\n",
    "\n",
    "class Autocorrect:\n",
    "    def __init__(self, data):\n",
    "        self.data = data.split()\n",
    "\n",
    "    def correct(self, word):\n",
    "        matches = get_close_matches(word, self.data, n=1, cutoff=0.8)\n",
    "        return matches[0] if matches else word\n",
    "\n",
    "autocorrect = Autocorrect(cleaned_text)\n",
    "\n",
    "# Example correction\n",
    "print(autocorrect.correct('dat'))\n"
   ]
  },
  {
   "cell_type": "code",
   "execution_count": 32,
   "id": "17af1d76-c0d9-4f98-bd7a-0e34e75b9620",
   "metadata": {},
   "outputs": [],
   "source": [
    "# Generate test data from cleaned text\n",
    "def generate_test_data(text):\n",
    "    words = text.split()\n",
    "    return [(words[i], words[i + 1]) for i in range(len(words) - 1)]\n",
    "\n",
    "test_data = generate_test_data(cleaned_text)\n"
   ]
  },
  {
   "cell_type": "code",
   "execution_count": 34,
   "id": "b51530b6-e344-4421-8e65-5ccdfefdd604",
   "metadata": {},
   "outputs": [
    {
     "name": "stdout",
     "output_type": "stream",
     "text": [
      "Autocomplete Accuracy: 63.59%\n"
     ]
    }
   ],
   "source": [
    "from sklearn.metrics import accuracy_score\n",
    "\n",
    "def evaluate_autocomplete(model, test_data):\n",
    "    predictions = []\n",
    "    actual = []\n",
    "    for word, next_word in test_data:\n",
    "        predicted = model.predict(word)\n",
    "        if predicted:\n",
    "            predictions.append(predicted[0])\n",
    "            actual.append(next_word)\n",
    "    return accuracy_score(actual, predictions)\n",
    "\n",
    "# Evaluate the autocomplete model\n",
    "accuracy = evaluate_autocomplete(autocomplete, test_data)\n",
    "print(f\"Autocomplete Accuracy: {accuracy * 100:.2f}%\")\n"
   ]
  },
  {
   "cell_type": "code",
   "execution_count": 40,
   "id": "504d9caa-9d38-419c-85f2-5b5002046d04",
   "metadata": {},
   "outputs": [
    {
     "name": "stdout",
     "output_type": "stream",
     "text": [
      "User Experience Score: 0.00%\n"
     ]
    }
   ],
   "source": [
    "# Placeholder code for user feedback collection (can be via a survey form)\n",
    "user_feedback = []  # Collect user feedback data here\n",
    "\n",
    "def analyze_feedback(feedback):\n",
    "    # Check if the feedback list is empty\n",
    "    if len(feedback) == 0:\n",
    "        return 0  # Return 0 or any default value when no feedback is available\n",
    "\n",
    "    # Placeholder analysis\n",
    "    positive_feedback = sum([1 for f in feedback if 'good' in f.lower()])\n",
    "    return positive_feedback / len(feedback) * 100\n",
    "\n",
    "user_feedback = []  # This should be your list of feedback strings\n",
    "\n",
    "user_experience_score = analyze_feedback(user_feedback)\n",
    "print(f\"User Experience Score: {user_experience_score:.2f}%\")\n",
    "\n"
   ]
  },
  {
   "cell_type": "code",
   "execution_count": 42,
   "id": "47ecbd91-b226-410c-bb2f-8b060b5f3a7e",
   "metadata": {},
   "outputs": [
    {
     "name": "stdout",
     "output_type": "stream",
     "text": [
      "{'Autocomplete': 0.6359289617486339}\n"
     ]
    }
   ],
   "source": [
    "# Placeholder for comparing models\n",
    "def compare_algorithms(models, test_data):\n",
    "    results = {}\n",
    "    for name, model in models.items():\n",
    "        accuracy = evaluate_autocomplete(model, test_data)\n",
    "        results[name] = accuracy\n",
    "    return results\n",
    "\n",
    "# Example usage with multiple models\n",
    "models = {'Autocomplete': autocomplete}\n",
    "comparison_results = compare_algorithms(models, test_data)\n",
    "print(comparison_results)\n"
   ]
  },
  {
   "cell_type": "code",
   "execution_count": 44,
   "id": "7bc308c2-2330-43d1-bf8c-96e0b47df9e8",
   "metadata": {},
   "outputs": [
    {
     "data": {
      "image/png": "[encoded data removed]",
      "text/plain": [
       "<Figure size 640x480 with 1 Axes>"
      ]
     },
     "metadata": {},
     "output_type": "display_data"
    }
   ],
   "source": [
    "import matplotlib.pyplot as plt\n",
    "\n",
    "# Example accuracy visualization\n",
    "def plot_results(results):\n",
    "    names = list(results.keys())\n",
    "    accuracies = list(results.values())\n",
    "    plt.bar(names, accuracies)\n",
    "    plt.xlabel('Algorithm')\n",
    "    plt.ylabel('Accuracy')\n",
    "    plt.title('Algorithm Comparison')\n",
    "    plt.show()\n",
    "\n",
    "plot_results(comparison_results)\n"
   ]
  }
 ],
 "metadata": {
  "kernelspec": {
   "display_name": "Python 3 (ipykernel)",
   "language": "python",
   "name": "python3"
  },
  "language_info": {
   "codemirror_mode": {
    "name": "ipython",
    "version": 3
   },
   "file_extension": ".py",
   "mimetype": "text/x-python",
   "name": "python",
   "nbconvert_exporter": "python",
   "pygments_lexer": "ipython3",
   "version": "3.11.7"
  }
 },
 "nbformat": 4,
 "nbformat_minor": 5
}
